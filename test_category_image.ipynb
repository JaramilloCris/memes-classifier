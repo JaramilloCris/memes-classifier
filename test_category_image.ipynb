{
 "cells": [
  {
   "cell_type": "code",
   "execution_count": null,
   "metadata": {},
   "outputs": [],
   "source": [
    "from data_loader_category import load_split_data\n",
    "from model import CNN, CNN_CATEGORY\n",
    "from utils import get_device\n",
    "from torch import nn\n",
    "from train_model import Train\n",
    "from torch.optim import SGD\n",
    "from torchvision import datasets, models, transforms\n",
    "import torch\n",
    "\n",
    "\n",
    "device = torch.device(\"cuda:0\" if torch.cuda.is_available() else \"cpu\")\n",
    "\n"
   ]
  },
  {
   "cell_type": "code",
   "execution_count": null,
   "metadata": {},
   "outputs": [],
   "source": [
    "\n",
    "BATCH_SIZE = 32\n",
    "LEARN_RATE = 0.001\n",
    "EMBEDDING_DIM = 200"
   ]
  },
  {
   "cell_type": "code",
   "execution_count": null,
   "metadata": {},
   "outputs": [],
   "source": [
    "trainloader, testloader, model_dataset = load_split_data(datadir='./final.csv', batch_size=BATCH_SIZE, test_size=0.3, data_augmentation=True)\n",
    "vocab = model_dataset.get_vocab()\n",
    "len_vocab = model_dataset.get_len_vocab()\n",
    "tematicas_name = model_dataset.get_tematicas_name()\n",
    "model_dataset.get_cont_tematica()\n"
   ]
  },
  {
   "cell_type": "code",
   "execution_count": null,
   "metadata": {},
   "outputs": [],
   "source": [
    "\n",
    "model = CNN_CATEGORY(17)\n",
    "model.to(device)\n",
    "\n",
    "model_ft = models.resnet152(pretrained=False)\n",
    "for parameter in model_ft.parameters():\n",
    "    parameter.requires_grad = False\n",
    "\n",
    "\n",
    "num_ftrs = model_ft.fc.in_features\n",
    "model_ft.fc = nn.Linear(num_ftrs, 17)\n",
    "model_ft = model_ft.to(device)\n",
    "\n",
    "criterion = nn.CrossEntropyLoss()\n",
    "optimizer = SGD(model_ft.parameters(), lr=LEARN_RATE, momentum=0.9)"
   ]
  },
  {
   "cell_type": "code",
   "execution_count": null,
   "metadata": {},
   "outputs": [],
   "source": [
    "experiment = Train(model_ft, optimizer, criterion,trainloader, testloader, show_matrix=True, epochs=1000, prints_every=100000\n",
    ", device=device, classes=tematicas_name)\n",
    "experiment.train_model()"
   ]
  },
  {
   "cell_type": "code",
   "execution_count": null,
   "metadata": {},
   "outputs": [],
   "source": [
    "# model_ft = models.resnet50(pretrained=False)\n",
    "# for parameter in model_ft.parameters():\n",
    "#     parameter.requires_grad = False\n",
    "\n",
    "# num_ftrs = model_ft.fc.in_features\n",
    "# print(num_ftrs)\n",
    "# model_ft.fc = nn.Linear(num_ftrs, 17)\n",
    "# model_ft = model_ft.to(device)\n",
    "\n",
    "# criterion = nn.CrossEntropyLoss()\n",
    "# optimizer_ft = SGD(model_ft.parameters(), lr=0.01, momentum=0.9)\n"
   ]
  },
  {
   "cell_type": "code",
   "execution_count": null,
   "metadata": {},
   "outputs": [],
   "source": [
    "# trainloader, testloader = load_split_data(datadir='./final.csv', batch_size=BATCH_SIZE)"
   ]
  },
  {
   "cell_type": "code",
   "execution_count": null,
   "metadata": {},
   "outputs": [],
   "source": [
    "# experiment = Train(model_ft, optimizer_ft, criterion,trainloader, testloader, show_matrix=False, epochs=1000, prints_every=10, device=device)\n",
    "# experiment.train_model()"
   ]
  }
 ],
 "metadata": {
  "interpreter": {
   "hash": "53bc1071832ac391935fdf937b770c52549a36f100aea11e6a4506dfbe66ca93"
  },
  "kernelspec": {
   "display_name": "Python 3.7.0 ('Meme': venv)",
   "language": "python",
   "name": "python3"
  },
  "language_info": {
   "codemirror_mode": {
    "name": "ipython",
    "version": 3
   },
   "file_extension": ".py",
   "mimetype": "text/x-python",
   "name": "python",
   "nbconvert_exporter": "python",
   "pygments_lexer": "ipython3",
   "version": "3.7.0"
  },
  "orig_nbformat": 4
 },
 "nbformat": 4,
 "nbformat_minor": 2
}
