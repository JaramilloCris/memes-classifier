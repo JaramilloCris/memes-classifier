{
 "cells": [
  {
   "cell_type": "code",
   "execution_count": null,
   "metadata": {},
   "outputs": [],
   "source": [
    "from model import CNN,  ModelMixBert, BertModelClassification\n",
    "from torch import nn\n",
    "from data_loader import load_split_data\n",
    "from torch.optim import SGD, Adam\n",
    "from torch.utils.tensorboard import SummaryWriter\n",
    "from utils import get_device, plot_images\n",
    "from transformers import BertModel        \n",
    "from torchvision import models\n",
    "\n",
    "\n",
    "\n",
    "import json\n",
    "import torch\n",
    "\n",
    "torch.manual_seed(42)\n",
    "torch.backends.cudnn.deterministic = True\n",
    "\n",
    "import warnings\n",
    "warnings.filterwarnings(\"ignore\")"
   ]
  },
  {
   "cell_type": "code",
   "execution_count": null,
   "metadata": {},
   "outputs": [],
   "source": [
    "from train_model import Train\n",
    "\n",
    "BATCH_SIZE = 128\n",
    "LEARN_RATE = 0.05\n",
    "EMBEDDING_DIM = 200\n",
    "\n",
    "with open('./datainfo.json', 'r') as f:\n",
    "    data = json.load(f)  \n",
    "    \n",
    "vocab = data[\"vocab\"]\n",
    "vocab_size = len(vocab)\n",
    "writer = SummaryWriter(comment=f\"LSTM-128 {LEARN_RATE} {BATCH_SIZE}\")\n",
    "\n",
    "trainloader, testloader, data_model = load_split_data(data, BATCH_SIZE, .2, bert = True)\n",
    "vocab_size"
   ]
  },
  {
   "cell_type": "code",
   "execution_count": null,
   "metadata": {},
   "outputs": [],
   "source": [
    "\n",
    "device = get_device()\n",
    "\n",
    "model_ft = models.resnet50(pretrained=True)\n",
    "for parameter in model_ft.parameters():\n",
    "    parameter.requires_grad = True\n",
    "\n",
    "num_ftrs = model_ft.fc.in_features\n",
    "model_ft.fc = nn.Linear(num_ftrs, 256)\n",
    "model_ft = model_ft.to(device)\n",
    "\n",
    "model_bert = BertModel.from_pretrained('bert-base-uncased')\n",
    "for parameter in model_bert.parameters():\n",
    "    parameter.requires_grad = True\n",
    "\n",
    "model1 = BertModelClassification(model_bert, 256)\n",
    "\n",
    "model2 = CNN(256)\n",
    "model = ModelMixBert(model_ft, model1, 512, 3)\n",
    "model.to(device)\n",
    "\n",
    "criterion = nn.CrossEntropyLoss()\n",
    "optimizer = SGD(model.parameters(), lr=LEARN_RATE, momentum=0.9)"
   ]
  },
  {
   "cell_type": "code",
   "execution_count": null,
   "metadata": {},
   "outputs": [],
   "source": [
    "experiment = Train(model, optimizer, criterion,trainloader, testloader, writer = writer, show_matrix=True, show_image=False, epochs=10, include_text=True)\n",
    "experiment.train_bert(include_image=True)"
   ]
  }
 ],
 "metadata": {
  "interpreter": {
   "hash": "53bc1071832ac391935fdf937b770c52549a36f100aea11e6a4506dfbe66ca93"
  },
  "kernelspec": {
   "display_name": "Python 3.7.0 ('Meme': venv)",
   "language": "python",
   "name": "python3"
  },
  "language_info": {
   "codemirror_mode": {
    "name": "ipython",
    "version": 3
   },
   "file_extension": ".py",
   "mimetype": "text/x-python",
   "name": "python",
   "nbconvert_exporter": "python",
   "pygments_lexer": "ipython3",
   "version": "3.7.0"
  },
  "orig_nbformat": 4
 },
 "nbformat": 4,
 "nbformat_minor": 2
}
