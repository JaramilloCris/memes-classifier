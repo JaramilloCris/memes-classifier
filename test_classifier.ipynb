{
 "cells": [
  {
   "cell_type": "code",
   "execution_count": 1,
   "metadata": {},
   "outputs": [],
   "source": [
    "import torch\n",
    "import json\n",
    "from model import ModelMix, CNN, LSTMTagger\n",
    "from utils import get_device\n",
    "from classifier import process_data\n"
   ]
  },
  {
   "cell_type": "code",
   "execution_count": 2,
   "metadata": {},
   "outputs": [],
   "source": [
    "with open('./datainfo.json', 'r') as f:\n",
    "    data = json.load(f)  \n",
    "    \n",
    "vocab = data[\"vocab\"]\n",
    "images_directory = process_data(vocab)"
   ]
  },
  {
   "cell_type": "code",
   "execution_count": 3,
   "metadata": {},
   "outputs": [],
   "source": [
    "BATCH_SIZE = 128\n",
    "EMBEDDING_DIM = 200\n",
    "classes = ('Meme', 'No Meme', 'Sticker')"
   ]
  },
  {
   "cell_type": "code",
   "execution_count": 4,
   "metadata": {},
   "outputs": [
    {
     "data": {
      "text/plain": [
       "<All keys matched successfully>"
      ]
     },
     "execution_count": 4,
     "metadata": {},
     "output_type": "execute_result"
    }
   ],
   "source": [
    "PATH = \"lstm\"\n",
    "vocab_size = len(vocab)\n",
    "\n",
    "device = get_device()\n",
    "model1 = LSTMTagger(EMBEDDING_DIM, vocab_size, 3, vocab, lstm_units=128)\n",
    "model2 = CNN()\n",
    "model = ModelMix(model1, model2)\n",
    "model.load_state_dict(torch.load(PATH))"
   ]
  },
  {
   "cell_type": "code",
   "execution_count": 18,
   "metadata": {},
   "outputs": [
    {
     "name": "stdout",
     "output_type": "stream",
     "text": [
      "La imagen test_image\\1.jpg fue clasificada como: Meme\n",
      "La imagen test_image\\1562445082_441403_1562445214_album_grande.jpg fue clasificada como: Meme\n",
      "La imagen test_image\\2.jpg fue clasificada como: No Meme\n",
      "La imagen test_image\\3.jpg fue clasificada como: Meme\n",
      "La imagen test_image\\F6D.jpg fue clasificada como: No Meme\n",
      "La imagen test_image\\foto_0000001620190703123447.jpg fue clasificada como: Meme\n",
      "La imagen test_image\\venezuela-chile-memes-13.jpg fue clasificada como: No Meme\n"
     ]
    }
   ],
   "source": [
    "for image in images_directory:\n",
    "    predict = model.forward(image[0], image[1])\n",
    "    val, ind = predict.squeeze(1).max(1)\n",
    "    print(f\"La imagen {image[2]} fue clasificada como: {classes[ind.item()]}\")"
   ]
  }
 ],
 "metadata": {
  "interpreter": {
   "hash": "5130052302cfdf04a3a60769cab1f779d6eaa6811442b64f35655b04ed8198c6"
  },
  "kernelspec": {
   "display_name": "Python 3.9.5 64-bit",
   "language": "python",
   "name": "python3"
  },
  "language_info": {
   "codemirror_mode": {
    "name": "ipython",
    "version": 3
   },
   "file_extension": ".py",
   "mimetype": "text/x-python",
   "name": "python",
   "nbconvert_exporter": "python",
   "pygments_lexer": "ipython3",
   "version": "3.9.5"
  },
  "orig_nbformat": 4
 },
 "nbformat": 4,
 "nbformat_minor": 2
}
