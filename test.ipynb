{
 "cells": [
  {
   "cell_type": "code",
   "execution_count": 1,
   "metadata": {},
   "outputs": [],
   "source": [
    "from model import get_device, get_restnet152\n",
    "from torch import nn, optim\n",
    "from data_loader import load_split_data\n",
    "\n",
    "import json\n",
    "import torch"
   ]
  },
  {
   "cell_type": "code",
   "execution_count": 2,
   "metadata": {},
   "outputs": [],
   "source": [
    "device = get_device()\n",
    "model = get_restnet152()\n",
    "model.to(device)\n",
    "optimizer = optim.Adam(model.parameters(), lr = 0.003)\n",
    "criterion = nn.NLLLoss()"
   ]
  },
  {
   "cell_type": "code",
   "execution_count": 3,
   "metadata": {},
   "outputs": [
    {
     "name": "stdout",
     "output_type": "stream",
     "text": [
      "Calculando pesos de train, tamaño del dataset 41574\n",
      "Calculando repeticiones por clase\n",
      "Repeticiones calculadas, tiempo: 0.006005048751831055\n",
      "Calculando los pesos por clase\n",
      "Pasando los pesos para cada imagen\n",
      "Pesos pasados, tiempo: 0.008000850677490234\n",
      "Calculando pesos de test, tamaño del dataset 10393 \n",
      "Calculando repeticiones por clase\n",
      "Repeticiones calculadas, tiempo: 0.002991199493408203\n",
      "Calculando los pesos por clase\n",
      "Pasando los pesos para cada imagen\n",
      "Pesos pasados, tiempo: 0.0020003318786621094\n",
      "Creados los DataLoader para train y test\n"
     ]
    },
    {
     "name": "stderr",
     "output_type": "stream",
     "text": [
      "C:\\Users\\groso\\AppData\\Local\\Programs\\Python\\Python39\\lib\\site-packages\\PIL\\Image.py:962: UserWarning: Palette images with Transparency expressed in bytes should be converted to RGBA images\n",
      "  warnings.warn(\n"
     ]
    },
    {
     "name": "stdout",
     "output_type": "stream",
     "text": [
      "Epoch 1/5.. Train loss: 2.438.. Test loss: 0.884.. Test accuracy: 0.507\n",
      "Epoch 1/5.. Train loss: 0.958.. Test loss: 0.623.. Test accuracy: 0.608\n",
      "Epoch 1/5.. Train loss: 0.654.. Test loss: 0.577.. Test accuracy: 0.686\n",
      "Epoch 1/5.. Train loss: 0.592.. Test loss: 0.529.. Test accuracy: 0.784\n",
      "Epoch 1/5.. Train loss: 0.537.. Test loss: 0.522.. Test accuracy: 0.756\n",
      "Epoch 1/5.. Train loss: 0.527.. Test loss: 0.470.. Test accuracy: 0.788\n",
      "Epoch 1/5.. Train loss: 0.464.. Test loss: 0.453.. Test accuracy: 0.797\n",
      "Epoch 1/5.. Train loss: 0.461.. Test loss: 0.429.. Test accuracy: 0.810\n",
      "Epoch 1/5.. Train loss: 0.449.. Test loss: 0.436.. Test accuracy: 0.803\n",
      "Epoch 1/5.. Train loss: 0.433.. Test loss: 0.390.. Test accuracy: 0.825\n",
      "Epoch 1/5.. Train loss: 0.439.. Test loss: 0.392.. Test accuracy: 0.830\n",
      "Epoch 1/5.. Train loss: 0.429.. Test loss: 0.433.. Test accuracy: 0.796\n",
      "Epoch 1/5.. Train loss: 0.434.. Test loss: 0.385.. Test accuracy: 0.833\n",
      "Epoch 1/5.. Train loss: 0.366.. Test loss: 0.389.. Test accuracy: 0.831\n"
     ]
    }
   ],
   "source": [
    "import PIL\n",
    "import os\n",
    "\n",
    "with open('./datainfo.json', 'r') as f:\n",
    "    data = json.load(f)      \n",
    "\n",
    "def uwu():\n",
    "\n",
    "    epochs = 5\n",
    "    steps = 0\n",
    "    running_loss = 0\n",
    "    print_every = 10\n",
    "    train_losses, test_losses = [], []\n",
    "    trainloader, testloader = load_split_data(data, .2)\n",
    "\n",
    "    for epoch in range(epochs):\n",
    "        try :\n",
    "            for inputs, labels in trainloader:\n",
    "                steps += 1\n",
    "                inputs, labels = inputs.to(device), labels.to(device)\n",
    "                optimizer.zero_grad()\n",
    "                logps = model.forward(inputs)\n",
    "\n",
    "                loss = criterion(logps, labels)\n",
    "                loss.backward()\n",
    "                optimizer.step()\n",
    "                running_loss += loss.item()\n",
    "                \n",
    "                if steps % print_every == 0:\n",
    "                    test_loss = 0\n",
    "                    accuracy = 0\n",
    "                    model.eval()\n",
    "                    with torch.no_grad():\n",
    "                        for inputs, labels in testloader:\n",
    "                            inputs, labels = inputs.to(device), labels.to(device)\n",
    "                            logps = model.forward(inputs)\n",
    "                            batch_loss = criterion(logps, labels)\n",
    "                            test_loss += batch_loss.item()\n",
    "                            \n",
    "                            ps = torch.exp(logps)\n",
    "                            top_p, top_class = ps.topk(1, dim=1)\n",
    "                            equals = top_class == labels.view(*top_class.shape)\n",
    "                            accuracy += torch.mean(equals.type(torch.FloatTensor)).item()\n",
    "\n",
    "                    train_losses.append(running_loss/len(trainloader))\n",
    "                    test_losses.append(test_loss/len(testloader))                    \n",
    "                    print(f\"Epoch {epoch+1}/{epochs}.. \"\n",
    "                        f\"Train loss: {running_loss/print_every:.3f}.. \"\n",
    "                        f\"Test loss: {test_loss/len(testloader):.3f}.. \"\n",
    "                        f\"Test accuracy: {accuracy/len(testloader):.3f}\")\n",
    "                    running_loss = 0\n",
    "                    model.train()\n",
    "        except PIL.UnidentifiedImageError as error:\n",
    "            print(error)\n",
    "            er = str(error).split(\"'\")\n",
    "            os.remove(er[1])\n",
    "            uwu()\n",
    "        \n",
    "uwu()"
   ]
  },
  {
   "cell_type": "code",
   "execution_count": null,
   "metadata": {},
   "outputs": [],
   "source": [
    "a = \"cannot identify image file <_io.BufferedReader name='./No-meme\\\\img_0001311.jpg'>\"\n",
    "a.split(\"'\")[1]"
   ]
  }
 ],
 "metadata": {
  "interpreter": {
   "hash": "5130052302cfdf04a3a60769cab1f779d6eaa6811442b64f35655b04ed8198c6"
  },
  "kernelspec": {
   "display_name": "Python 3.9.5 64-bit",
   "name": "python3"
  },
  "language_info": {
   "codemirror_mode": {
    "name": "ipython",
    "version": 3
   },
   "file_extension": ".py",
   "mimetype": "text/x-python",
   "name": "python",
   "nbconvert_exporter": "python",
   "pygments_lexer": "ipython3",
   "version": "3.9.5"
  },
  "orig_nbformat": 4
 },
 "nbformat": 4,
 "nbformat_minor": 2
}
