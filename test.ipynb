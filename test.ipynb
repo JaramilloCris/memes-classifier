{
 "cells": [
  {
   "cell_type": "code",
   "execution_count": 6,
   "metadata": {},
   "outputs": [],
   "source": [
    "from model import get_restnet152, make_bow_vector, make_target, ImageClassificator, BoWClassifier, CNN, LSTMTagger,  ModelMix\n",
    "from torch import nn, optim\n",
    "from data_loader import load_split_data\n",
    "from torch.optim import SGD\n",
    "from utils import get_device\n",
    "import json\n",
    "import torch"
   ]
  },
  {
   "cell_type": "code",
   "execution_count": 4,
   "metadata": {},
   "outputs": [],
   "source": [
    "BATCH_SIZE = 32\n",
    "LEARN_RATE = 0.05\n",
    "EMBEDDING_DIM = 200\n",
    "\n",
    "with open('./datainfo.json', 'r') as f:\n",
    "    data = json.load(f)  \n",
    "    \n",
    "vocab = data[\"vocab\"]\n",
    "vocab_size = len(vocab)\n",
    "\n",
    "trainloader, testloader = load_split_data(data, BATCH_SIZE, .2)"
   ]
  },
  {
   "cell_type": "code",
   "execution_count": 7,
   "metadata": {},
   "outputs": [],
   "source": [
    "device = get_device()\n",
    "model1 = BoWClassifier(vocab_size, 3)\n",
    "model2 = CNN()\n",
    "model = ModelMix(model1, model2)\n",
    "model.to(device)\n",
    "\n",
    "criterion = nn.CrossEntropyLoss()\n",
    "optimizer = SGD(model.parameters(), lr=LEARN_RATE)"
   ]
  },
  {
   "cell_type": "code",
   "execution_count": 8,
   "metadata": {},
   "outputs": [],
   "source": [
    "trainloader, testloader = load_split_data(data, BATCH_SIZE, .2)"
   ]
  },
  {
   "cell_type": "code",
   "execution_count": 9,
   "metadata": {},
   "outputs": [
    {
     "ename": "KeyError",
     "evalue": "'tensor([1.,'",
     "output_type": "error",
     "traceback": [
      "\u001b[1;31m---------------------------------------------------------------------------\u001b[0m",
      "\u001b[1;31mKeyError\u001b[0m                                  Traceback (most recent call last)",
      "\u001b[1;32m~\\AppData\\Local\\Temp/ipykernel_19212/4165890283.py\u001b[0m in \u001b[0;36m<module>\u001b[1;34m\u001b[0m\n\u001b[0;32m     68\u001b[0m             \u001b[0mtrain_bow\u001b[0m\u001b[1;33m(\u001b[0m\u001b[1;33m)\u001b[0m\u001b[1;33m\u001b[0m\u001b[1;33m\u001b[0m\u001b[0m\n\u001b[0;32m     69\u001b[0m \u001b[1;33m\u001b[0m\u001b[0m\n\u001b[1;32m---> 70\u001b[1;33m \u001b[0mtrain_bow\u001b[0m\u001b[1;33m(\u001b[0m\u001b[1;33m)\u001b[0m\u001b[1;33m\u001b[0m\u001b[1;33m\u001b[0m\u001b[0m\n\u001b[0m",
      "\u001b[1;32m~\\AppData\\Local\\Temp/ipykernel_19212/4165890283.py\u001b[0m in \u001b[0;36mtrain_bow\u001b[1;34m()\u001b[0m\n\u001b[0;32m     19\u001b[0m                 \u001b[0msteps\u001b[0m \u001b[1;33m+=\u001b[0m \u001b[1;36m1\u001b[0m\u001b[1;33m\u001b[0m\u001b[1;33m\u001b[0m\u001b[0m\n\u001b[0;32m     20\u001b[0m \u001b[1;33m\u001b[0m\u001b[0m\n\u001b[1;32m---> 21\u001b[1;33m                 \u001b[0mbow_vec\u001b[0m \u001b[1;33m=\u001b[0m \u001b[0mtorch\u001b[0m\u001b[1;33m.\u001b[0m\u001b[0mstack\u001b[0m\u001b[1;33m(\u001b[0m\u001b[0mmake_bow_vector\u001b[0m\u001b[1;33m(\u001b[0m\u001b[0mtext\u001b[0m\u001b[1;33m,\u001b[0m \u001b[0mvocab\u001b[0m\u001b[1;33m)\u001b[0m\u001b[1;33m)\u001b[0m\u001b[1;33m.\u001b[0m\u001b[0mcuda\u001b[0m\u001b[1;33m(\u001b[0m\u001b[1;33m)\u001b[0m\u001b[1;33m\u001b[0m\u001b[1;33m\u001b[0m\u001b[0m\n\u001b[0m\u001b[0;32m     22\u001b[0m                 \u001b[0mtarget\u001b[0m \u001b[1;33m=\u001b[0m \u001b[0mtorch\u001b[0m\u001b[1;33m.\u001b[0m\u001b[0mstack\u001b[0m\u001b[1;33m(\u001b[0m\u001b[0mmake_target\u001b[0m\u001b[1;33m(\u001b[0m\u001b[0mlabels\u001b[0m\u001b[1;33m.\u001b[0m\u001b[0mtolist\u001b[0m\u001b[1;33m(\u001b[0m\u001b[1;33m)\u001b[0m\u001b[1;33m,\u001b[0m \u001b[0mclasses\u001b[0m\u001b[1;33m)\u001b[0m\u001b[1;33m)\u001b[0m\u001b[1;33m.\u001b[0m\u001b[0mcuda\u001b[0m\u001b[1;33m(\u001b[0m\u001b[1;33m)\u001b[0m\u001b[1;33m\u001b[0m\u001b[1;33m\u001b[0m\u001b[0m\n\u001b[0;32m     23\u001b[0m                 \u001b[0mlabels\u001b[0m \u001b[1;33m=\u001b[0m \u001b[0mlabels\u001b[0m\u001b[1;33m.\u001b[0m\u001b[0mto\u001b[0m\u001b[1;33m(\u001b[0m\u001b[0mdevice\u001b[0m\u001b[1;33m)\u001b[0m\u001b[1;33m\u001b[0m\u001b[1;33m\u001b[0m\u001b[0m\n",
      "\u001b[1;32mc:\\Users\\groso\\Desktop\\Ramos\\Memes\\model.py\u001b[0m in \u001b[0;36mmake_bow_vector\u001b[1;34m(batch, vocab)\u001b[0m\n\u001b[0;32m     84\u001b[0m             \u001b[0mword\u001b[0m \u001b[1;33m=\u001b[0m \u001b[0mword\u001b[0m\u001b[1;33m.\u001b[0m\u001b[0mlower\u001b[0m\u001b[1;33m(\u001b[0m\u001b[1;33m)\u001b[0m\u001b[1;33m\u001b[0m\u001b[1;33m\u001b[0m\u001b[0m\n\u001b[0;32m     85\u001b[0m             \u001b[1;32mif\u001b[0m \u001b[0mword\u001b[0m \u001b[1;32mnot\u001b[0m \u001b[1;32min\u001b[0m \u001b[0mstop_words\u001b[0m\u001b[1;33m:\u001b[0m\u001b[1;33m\u001b[0m\u001b[1;33m\u001b[0m\u001b[0m\n\u001b[1;32m---> 86\u001b[1;33m                 \u001b[0mvec\u001b[0m\u001b[1;33m[\u001b[0m\u001b[0mvocab\u001b[0m\u001b[1;33m[\u001b[0m\u001b[0mword\u001b[0m\u001b[1;33m]\u001b[0m\u001b[1;33m]\u001b[0m \u001b[1;33m+=\u001b[0m \u001b[1;36m1\u001b[0m\u001b[1;33m\u001b[0m\u001b[1;33m\u001b[0m\u001b[0m\n\u001b[0m\u001b[0;32m     87\u001b[0m \u001b[1;33m\u001b[0m\u001b[0m\n\u001b[0;32m     88\u001b[0m         \u001b[0mret\u001b[0m\u001b[1;33m.\u001b[0m\u001b[0mappend\u001b[0m\u001b[1;33m(\u001b[0m\u001b[0mvec\u001b[0m\u001b[1;33m.\u001b[0m\u001b[0mview\u001b[0m\u001b[1;33m(\u001b[0m\u001b[1;36m1\u001b[0m\u001b[1;33m,\u001b[0m \u001b[1;33m-\u001b[0m\u001b[1;36m1\u001b[0m\u001b[1;33m)\u001b[0m\u001b[1;33m)\u001b[0m\u001b[1;33m\u001b[0m\u001b[1;33m\u001b[0m\u001b[0m\n",
      "\u001b[1;31mKeyError\u001b[0m: 'tensor([1.,'"
     ]
    }
   ],
   "source": [
    "import PIL\n",
    "import os  \n",
    "\n",
    "\n",
    "def train_bow():\n",
    "\n",
    "    epochs = 5\n",
    "    steps = 0\n",
    "    running_loss = 0\n",
    "    print_every = 10\n",
    "    train_losses, test_losses = [], []\n",
    "    \n",
    "    classes = {0: 0, 1: 1, 2: 2}\n",
    "    \n",
    "\n",
    "    for epoch in range(epochs):\n",
    "        try :\n",
    "            for image, text, labels in trainloader:\n",
    "                steps += 1                \n",
    "            \n",
    "                bow_vec = torch.stack(make_bow_vector(text, vocab)).cuda()\n",
    "                target = torch.stack(make_target(labels.tolist(), classes)).cuda()\n",
    "                labels = labels.to(device)\n",
    "                image = image.to(device)\n",
    "                \n",
    "                optimizer.zero_grad()\n",
    "                predict = model.forward(bow_vec)\n",
    "\n",
    "                loss = criterion(predict.squeeze(1), target.squeeze(1))\n",
    "                loss.backward()\n",
    "                optimizer.step()\n",
    "                running_loss += loss.item()\n",
    "                \n",
    "                if steps % print_every == 0:\n",
    "                    test_loss = 0\n",
    "                    accuracy = 0\n",
    "                    total = 0\n",
    "                    model.eval()\n",
    "                    with torch.no_grad():\n",
    "                        for image, text, labels in testloader:\n",
    "                            \n",
    "                            bow_vec = torch.stack(make_bow_vector(text, vocab)).to(device)\n",
    "                            target = torch.stack(make_target(labels.tolist(), classes)).to(device)\n",
    "                            labels = labels.to(device)\n",
    "                            \n",
    "                            predict = model.forward(bow_vec)\n",
    "                            batch_loss = criterion(predict.squeeze(1), target.squeeze(1))\n",
    "                            test_loss += batch_loss.item()\n",
    "                                                        \n",
    "                            val, ind = predict.squeeze(1).max(1) \n",
    "                            accuracy += (ind == labels).sum()\n",
    "                            total += len(labels)\n",
    "\n",
    "                    train_losses.append(running_loss/len(trainloader))\n",
    "                    test_losses.append(test_loss/len(testloader))                    \n",
    "                    print(f\"Epoch {epoch+1}/{epochs}.. \"\n",
    "                        f\"Train loss: {running_loss/print_every:.3f}.. \"\n",
    "                        f\"Test loss: {test_loss/len(testloader):.3f}.. \"\n",
    "                        f\"Test accuracy: {float(accuracy)/float(total):.3f}\")\n",
    "                    running_loss = 0\n",
    "                    accuracy = 0\n",
    "                    total =0\n",
    "                    model.train()\n",
    "        except PIL.UnidentifiedImageError as error:\n",
    "            print(error)\n",
    "            er = str(error).split(\"'\")\n",
    "            os.remove(er[1])\n",
    "            train_bow()\n",
    "        \n",
    "train_bow()"
   ]
  },
  {
   "cell_type": "code",
   "execution_count": null,
   "metadata": {},
   "outputs": [],
   "source": [
    "from model import get_device, get_restnet152, make_bow_vector, make_target, PrincipalClassificator, ImageClassificator, BoWClassifier, CNN, LSTMTagger,  ModelMix\n",
    "from torch import nn, optim\n",
    "from data_loader import load_split_data\n",
    "from torch.optim import SGD\n",
    "from torch.utils.tensorboard import SummaryWriter\n",
    "from trainModel import Train\n",
    "\n",
    "import json\n",
    "import torch\n",
    "\n"
   ]
  },
  {
   "cell_type": "code",
   "execution_count": null,
   "metadata": {},
   "outputs": [],
   "source": [
    "BATCH_SIZE = 32\n",
    "LEARN_RATE = 0.05\n",
    "EMBEDDING_DIM = 200\n",
    "\n",
    "with open('./datainfo.json', 'r') as f:\n",
    "    data = json.load(f)  \n",
    "    \n",
    "vocab = data[\"vocab\"]\n",
    "vocab_size = len(vocab)\n",
    "writer = SummaryWriter(comment=f\"LSTM {LEARN_RATE} {BATCH_SIZE}\")\n",
    "\n",
    "trainloader, testloader = load_split_data(data, BATCH_SIZE, .3)"
   ]
  },
  {
   "cell_type": "code",
   "execution_count": null,
   "metadata": {},
   "outputs": [],
   "source": [
    "device = get_device()\n",
    "model1 = LSTMTagger(EMBEDDING_DIM, vocab_size, 3)\n",
    "model2 = CNN()\n",
    "model = ModelMix(model1, model2)\n",
    "model.to(device)\n",
    "\n",
    "criterion = nn.CrossEntropyLoss()\n",
    "optimizer = SGD(model.parameters(), lr=LEARN_RATE)\n",
    "\n",
    "experiment = Train(model, optimizer, criterion,trainloader, testloader, writer = writer)\n",
    "experiment.train_model()\n"
   ]
  }
 ],
 "metadata": {
  "interpreter": {
   "hash": "5130052302cfdf04a3a60769cab1f779d6eaa6811442b64f35655b04ed8198c6"
  },
  "kernelspec": {
   "display_name": "Python 3.9.5 64-bit",
   "name": "python3"
  },
  "language_info": {
   "codemirror_mode": {
    "name": "ipython",
    "version": 3
   },
   "file_extension": ".py",
   "mimetype": "text/x-python",
   "name": "python",
   "nbconvert_exporter": "python",
   "pygments_lexer": "ipython3",
   "version": "3.9.5"
  },
  "orig_nbformat": 4
 },
 "nbformat": 4,
 "nbformat_minor": 2
}
