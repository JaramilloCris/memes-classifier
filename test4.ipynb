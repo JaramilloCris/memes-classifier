{
 "cells": [
  {
   "cell_type": "code",
   "execution_count": 1,
   "metadata": {},
   "outputs": [],
   "source": [
    "from model import get_device, CNN, LSTMTagger,  ModelMix\n",
    "from torch import nn\n",
    "from data_loader import load_split_data\n",
    "from torch.optim import SGD, Adam\n",
    "from torch.utils.tensorboard import SummaryWriter\n",
    "\n",
    "import json\n"
   ]
  },
  {
   "cell_type": "code",
   "execution_count": 2,
   "metadata": {},
   "outputs": [],
   "source": [
    "from train_model import Train\n",
    "\n",
    "BATCH_SIZE = 128\n",
    "LEARN_RATE = 0.05\n",
    "EMBEDDING_DIM = 200\n",
    "\n",
    "with open('./datainfo.json', 'r') as f:\n",
    "    data = json.load(f)  \n",
    "    \n",
    "vocab = data[\"vocab\"]\n",
    "vocab_size = len(vocab)\n",
    "writer = SummaryWriter(comment=f\"LSTM-128 {LEARN_RATE} {BATCH_SIZE}\")\n",
    "\n",
    "trainloader, testloader = load_split_data(data, BATCH_SIZE, .2)"
   ]
  },
  {
   "cell_type": "code",
   "execution_count": null,
   "metadata": {},
   "outputs": [],
   "source": [
    "device = get_device()\n",
    "model1 = LSTMTagger(EMBEDDING_DIM, vocab_size, 3, vocab, lstm_units=128)\n",
    "model2 = CNN()\n",
    "model = ModelMix(model1, model2)\n",
    "model.to(device)\n",
    "\n",
    "criterion = nn.CrossEntropyLoss()\n",
    "optimizer = SGD(model.parameters(), lr=LEARN_RATE, momentum=0.9)"
   ]
  },
  {
   "cell_type": "code",
   "execution_count": null,
   "metadata": {},
   "outputs": [],
   "source": [
    "experiment = Train(model, optimizer, criterion,trainloader, testloader, writer = writer, show_matrix=True)\n",
    "experiment.train_model()"
   ]
  }
 ],
 "metadata": {
  "interpreter": {
   "hash": "5130052302cfdf04a3a60769cab1f779d6eaa6811442b64f35655b04ed8198c6"
  },
  "kernelspec": {
   "display_name": "Python 3.9.5 64-bit",
   "name": "python3"
  },
  "language_info": {
   "codemirror_mode": {
    "name": "ipython",
    "version": 3
   },
   "file_extension": ".py",
   "mimetype": "text/x-python",
   "name": "python",
   "nbconvert_exporter": "python",
   "pygments_lexer": "ipython3",
   "version": "3.9.5"
  },
  "orig_nbformat": 4
 },
 "nbformat": 4,
 "nbformat_minor": 2
}
