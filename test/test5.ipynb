{
 "cells": [
  {
   "cell_type": "code",
   "execution_count": 1,
   "metadata": {},
   "outputs": [
    {
     "ename": "ModuleNotFoundError",
     "evalue": "No module named 'model'",
     "output_type": "error",
     "traceback": [
      "\u001b[1;31m---------------------------------------------------------------------------\u001b[0m",
      "\u001b[1;31mModuleNotFoundError\u001b[0m                       Traceback (most recent call last)",
      "\u001b[1;32m~\\AppData\\Local\\Temp/ipykernel_6728/3062044245.py\u001b[0m in \u001b[0;36m<module>\u001b[1;34m\u001b[0m\n\u001b[1;32m----> 1\u001b[1;33m \u001b[1;32mfrom\u001b[0m \u001b[0mmodel\u001b[0m \u001b[1;32mimport\u001b[0m \u001b[0mget_device\u001b[0m\u001b[1;33m,\u001b[0m \u001b[0mCNN\u001b[0m\u001b[1;33m,\u001b[0m \u001b[0mTextSentimentConv1d\u001b[0m\u001b[1;33m,\u001b[0m  \u001b[0mModelMix\u001b[0m\u001b[1;33m\u001b[0m\u001b[1;33m\u001b[0m\u001b[0m\n\u001b[0m\u001b[0;32m      2\u001b[0m \u001b[1;32mfrom\u001b[0m \u001b[0mtorch\u001b[0m \u001b[1;32mimport\u001b[0m \u001b[0mnn\u001b[0m\u001b[1;33m\u001b[0m\u001b[1;33m\u001b[0m\u001b[0m\n\u001b[0;32m      3\u001b[0m \u001b[1;32mfrom\u001b[0m \u001b[0mdata_loader\u001b[0m \u001b[1;32mimport\u001b[0m \u001b[0mload_split_data\u001b[0m\u001b[1;33m\u001b[0m\u001b[1;33m\u001b[0m\u001b[0m\n\u001b[0;32m      4\u001b[0m \u001b[1;32mfrom\u001b[0m \u001b[0mtorch\u001b[0m\u001b[1;33m.\u001b[0m\u001b[0moptim\u001b[0m \u001b[1;32mimport\u001b[0m \u001b[0mSGD\u001b[0m\u001b[1;33m,\u001b[0m \u001b[0mAdam\u001b[0m\u001b[1;33m\u001b[0m\u001b[1;33m\u001b[0m\u001b[0m\n\u001b[0;32m      5\u001b[0m \u001b[1;32mfrom\u001b[0m \u001b[0mtorch\u001b[0m\u001b[1;33m.\u001b[0m\u001b[0mutils\u001b[0m\u001b[1;33m.\u001b[0m\u001b[0mtensorboard\u001b[0m \u001b[1;32mimport\u001b[0m \u001b[0mSummaryWriter\u001b[0m\u001b[1;33m\u001b[0m\u001b[1;33m\u001b[0m\u001b[0m\n",
      "\u001b[1;31mModuleNotFoundError\u001b[0m: No module named 'model'"
     ]
    }
   ],
   "source": [
    "from model import get_device, CNN, TextSentimentConv1d,  ModelMix\n",
    "from torch import nn\n",
    "from data_loader import load_split_data\n",
    "from torch.optim import SGD, Adam\n",
    "from torch.utils.tensorboard import SummaryWriter\n",
    "\n",
    "import json\n",
    "import hiddenlayer as hl\n",
    "import torch"
   ]
  },
  {
   "cell_type": "code",
   "execution_count": null,
   "metadata": {},
   "outputs": [],
   "source": [
    "from trainModel import Train\n",
    "\n",
    "BATCH_SIZE = 128\n",
    "LEARN_RATE = 0.05\n",
    "EMBEDDING_DIM = 200\n",
    "\n",
    "with open('./datainfo.json', 'r') as f:\n",
    "    data = json.load(f)  \n",
    "    \n",
    "vocab = data[\"vocab\"]\n",
    "vocab_size = len(vocab)\n",
    "writer = SummaryWriter(comment=f\"Conv1d-Momentum {LEARN_RATE} {BATCH_SIZE}\")\n",
    "\n",
    "trainloader, testloader = load_split_data(data, BATCH_SIZE, .3)"
   ]
  },
  {
   "cell_type": "code",
   "execution_count": null,
   "metadata": {},
   "outputs": [],
   "source": [
    "device = get_device()\n",
    "model1 = TextSentimentConv1d(vocab_size, EMBEDDING_DIM, 3, vocab)\n",
    "model2 = CNN()\n",
    "model = ModelMix(model1, model2)\n",
    "model.to(device)\n",
    "\n",
    "criterion = nn.CrossEntropyLoss()\n",
    "optimizer = SGD(model.parameters(), lr=LEARN_RATE, momentum=0.9)"
   ]
  },
  {
   "cell_type": "code",
   "execution_count": null,
   "metadata": {},
   "outputs": [],
   "source": [
    "experiment = Train(model, optimizer, criterion,trainloader, testloader, writer=writer, confusion_matrix = True)\n",
    "experiment.train_model()"
   ]
  }
 ],
 "metadata": {
  "interpreter": {
   "hash": "5130052302cfdf04a3a60769cab1f779d6eaa6811442b64f35655b04ed8198c6"
  },
  "kernelspec": {
   "display_name": "Python 3.9.5 64-bit",
   "name": "python3"
  },
  "language_info": {
   "codemirror_mode": {
    "name": "ipython",
    "version": 3
   },
   "file_extension": ".py",
   "mimetype": "text/x-python",
   "name": "python",
   "nbconvert_exporter": "python",
   "pygments_lexer": "ipython3",
   "version": "3.9.5"
  },
  "orig_nbformat": 4
 },
 "nbformat": 4,
 "nbformat_minor": 2
}
